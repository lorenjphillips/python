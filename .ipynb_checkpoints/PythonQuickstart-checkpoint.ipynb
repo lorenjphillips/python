{
 "cells": [
  {
   "cell_type": "code",
   "execution_count": 1,
   "id": "4fc1a825-c190-42dd-8605-a666ceac77f3",
   "metadata": {},
   "outputs": [
    {
     "name": "stdout",
     "output_type": "stream",
     "text": [
      "hello world\n"
     ]
    }
   ],
   "source": [
    "print('hello world')"
   ]
  },
  {
   "cell_type": "markdown",
   "id": "dbb06097-4a69-4cd8-9456-d968abeba690",
   "metadata": {},
   "source": [
    "Types of data: Boolean (T/F) 'bool', Integers (+,-,0) 'int', Floating Point (Decimals) 'float'.\n",
    "\n",
    "Any characters in \" \" or ' ' is a string"
   ]
  },
  {
   "cell_type": "code",
   "execution_count": 2,
   "id": "52dbc129-9355-4cc3-966e-9a5cc7ff244a",
   "metadata": {},
   "outputs": [
    {
     "name": "stdout",
     "output_type": "stream",
     "text": [
      "7\n"
     ]
    }
   ],
   "source": [
    "print(2+5)"
   ]
  },
  {
   "cell_type": "code",
   "execution_count": 3,
   "id": "959b6642-903f-4fdb-8c04-5c44550429c1",
   "metadata": {},
   "outputs": [
    {
     "name": "stdout",
     "output_type": "stream",
     "text": [
      "2+5\n"
     ]
    }
   ],
   "source": [
    "print(\"2+5\")"
   ]
  },
  {
   "cell_type": "markdown",
   "id": "89794fa0-4f1b-4bd4-a8cf-87006dd5fc4b",
   "metadata": {},
   "source": [
    "Variables - store data types"
   ]
  },
  {
   "cell_type": "code",
   "execution_count": 6,
   "id": "596d6f4c-e54f-4692-b834-1c8a85bbf6eb",
   "metadata": {},
   "outputs": [
    {
     "name": "stdout",
     "output_type": "stream",
     "text": [
      "5+7.0\n"
     ]
    }
   ],
   "source": [
    "print('5+7.0')"
   ]
  },
  {
   "cell_type": "markdown",
   "id": "2f3c482c-ff1e-471f-a04e-5031868553b0",
   "metadata": {},
   "source": [
    "Functions"
   ]
  },
  {
   "cell_type": "code",
   "execution_count": 10,
   "id": "c4288319-8d18-4657-a000-3df4c7f578b2",
   "metadata": {},
   "outputs": [
    {
     "name": "stdout",
     "output_type": "stream",
     "text": [
      "What is your name? Lo\n"
     ]
    },
    {
     "name": "stdout",
     "output_type": "stream",
     "text": [
      "What is up Lo?\n"
     ]
    }
   ],
   "source": [
    "def greet():\n",
    "    name = input('What is your name?')\n",
    "    print('What is up ' + name + '?')\n",
    "\n",
    "greet()"
   ]
  },
  {
   "cell_type": "markdown",
   "id": "c69669ce-aa76-4502-8744-199ae316f272",
   "metadata": {},
   "source": [
    "Built-in funcitons"
   ]
  },
  {
   "cell_type": "code",
   "execution_count": 11,
   "id": "2e91401f-775b-4173-96cb-f8d21387b33d",
   "metadata": {},
   "outputs": [
    {
     "name": "stdout",
     "output_type": "stream",
     "text": [
      "print means to show data\n"
     ]
    }
   ],
   "source": [
    "print('print means to show data')"
   ]
  },
  {
   "cell_type": "code",
   "execution_count": 13,
   "id": "a88d2e6b-deda-49fe-a1e8-3705a60dea6c",
   "metadata": {},
   "outputs": [
    {
     "name": "stdout",
     "output_type": "stream",
     "text": [
      "this input means it can ask for something, what is your name? Lo\n"
     ]
    }
   ],
   "source": [
    "data = input('this input means it can ask for something, what is your name?')"
   ]
  },
  {
   "cell_type": "code",
   "execution_count": 14,
   "id": "c7f588be-571f-4706-85a3-cc7e4ed5af7a",
   "metadata": {},
   "outputs": [
    {
     "name": "stdout",
     "output_type": "stream",
     "text": [
      "Lo\n"
     ]
    }
   ],
   "source": [
    "print(data)"
   ]
  },
  {
   "cell_type": "code",
   "execution_count": 17,
   "id": "346476be-d6e7-4244-8976-fa347fe2f607",
   "metadata": {},
   "outputs": [],
   "source": [
    "# def fucntionName(inputName)\n",
    "   # body"
   ]
  },
  {
   "cell_type": "markdown",
   "id": "1386e601-c02d-4223-884d-d3f55e0bf4e9",
   "metadata": {},
   "source": [
    "Def means definition. Make sure the whole body is indented"
   ]
  },
  {
   "cell_type": "code",
   "execution_count": 19,
   "id": "ecb0680c-62da-4c55-b036-9f402632c6c9",
   "metadata": {},
   "outputs": [],
   "source": [
    "def addFive(x):\n",
    "    print(5+x)"
   ]
  },
  {
   "cell_type": "code",
   "execution_count": 22,
   "id": "e5b4e3e6-c84d-4c57-ac0a-24ba1aaeb80a",
   "metadata": {},
   "outputs": [
    {
     "name": "stdout",
     "output_type": "stream",
     "text": [
      "8\n",
      "67.5\n"
     ]
    }
   ],
   "source": [
    "addFive(3)\n",
    "addFive(62.5)"
   ]
  },
  {
   "cell_type": "markdown",
   "id": "28ca492e-e6b4-4bfc-bcde-d1156a971d1b",
   "metadata": {},
   "source": [
    "Some functions take input, some return output, some do neither"
   ]
  },
  {
   "cell_type": "code",
   "execution_count": 27,
   "id": "0f976567-5ddc-4e4c-90e6-7c6210b0c743",
   "metadata": {},
   "outputs": [
    {
     "name": "stdout",
     "output_type": "stream",
     "text": [
      "hey\n"
     ]
    }
   ],
   "source": [
    "def greeting():\n",
    "    print('hey')\n",
    "\n",
    "greeting()"
   ]
  },
  {
   "cell_type": "code",
   "execution_count": 30,
   "id": "26e9936b-0288-4cc0-b7d9-3e32335a310f",
   "metadata": {},
   "outputs": [
    {
     "name": "stdout",
     "output_type": "stream",
     "text": [
      "25\n",
      "625\n"
     ]
    }
   ],
   "source": [
    "def square(x):\n",
    "    return x * x\n",
    "\n",
    "result = square(5)\n",
    "print(result)\n",
    "\n",
    "another = square(result)\n",
    "print(another)"
   ]
  },
  {
   "cell_type": "code",
   "execution_count": 33,
   "id": "e5efc20a-e7f3-40fe-b755-9ea31715091d",
   "metadata": {},
   "outputs": [
    {
     "name": "stdout",
     "output_type": "stream",
     "text": [
      "13\n"
     ]
    }
   ],
   "source": [
    "def sumOfSquares(x, y):\n",
    "        square1 = x * x\n",
    "        square2 = y * y\n",
    "        return square1 + square2\n",
    "\n",
    "result = sumOfSquares(2,3)\n",
    "print(result)"
   ]
  },
  {
   "cell_type": "code",
   "execution_count": 34,
   "id": "84ed990c-0f7d-489f-881b-8640c283aa5f",
   "metadata": {},
   "outputs": [],
   "source": [
    "def is_it_raining():\n",
    "    raining = input('Is it raining today?')\n",
    "    return raining"
   ]
  },
  {
   "cell_type": "markdown",
   "id": "a0dceff7-c75a-4a8b-b526-709072ef0917",
   "metadata": {},
   "source": [
    "Modules - allow you to reuse code that has been written (calendar, amth, random) modules."
   ]
  },
  {
   "cell_type": "code",
   "execution_count": 36,
   "id": "b3e879d4-35f2-4020-904d-aaf4dedc3616",
   "metadata": {},
   "outputs": [
    {
     "name": "stdout",
     "output_type": "stream",
     "text": [
      "   September 2024\n",
      "Mo Tu We Th Fr Sa Su\n",
      "                   1\n",
      " 2  3  4  5  6  7  8\n",
      " 9 10 11 12 13 14 15\n",
      "16 17 18 19 20 21 22\n",
      "23 24 25 26 27 28 29\n",
      "30\n",
      "\n"
     ]
    }
   ],
   "source": [
    "import calendar # makes cal avail to use!\n",
    "\n",
    "cal = calendar.month(2024, 9)\n",
    "print(cal)"
   ]
  },
  {
   "cell_type": "code",
   "execution_count": 38,
   "id": "8411607a-ac8d-4f8e-937c-698b05d3445e",
   "metadata": {},
   "outputs": [
    {
     "name": "stdout",
     "output_type": "stream",
     "text": [
      "7.0\n"
     ]
    }
   ],
   "source": [
    "import math\n",
    "\n",
    "result = math.sqrt(49)\n",
    "print(result)"
   ]
  },
  {
   "cell_type": "code",
   "execution_count": 41,
   "id": "1e9fe4eb-ce5a-4dc8-8b9b-65d11b8d5bdf",
   "metadata": {},
   "outputs": [
    {
     "name": "stdout",
     "output_type": "stream",
     "text": [
      "93\n"
     ]
    }
   ],
   "source": [
    "import random\n",
    "\n",
    "number = random.randint(1, 100) # returns int between two inputs\n",
    "print(number)"
   ]
  },
  {
   "cell_type": "markdown",
   "id": "19121e3d-5668-4d81-9325-7ff765746143",
   "metadata": {},
   "source": [
    "Can also choose random choice from a list"
   ]
  },
  {
   "cell_type": "code",
   "execution_count": 43,
   "id": "a0113e6e-0429-4919-8333-df506aab6f25",
   "metadata": {},
   "outputs": [
    {
     "name": "stdout",
     "output_type": "stream",
     "text": [
      "salmon\n"
     ]
    }
   ],
   "source": [
    "foods = [\"apple\", \"banana\", \"carrot\", \"bread\", \"chicken\", \"salmon\", \"rice\", \"spinach\", \"avocado\", \"yogurt\"]\n",
    "\n",
    "choose = random.choice(foods)\n",
    "print(choose)"
   ]
  },
  {
   "cell_type": "code",
   "execution_count": 47,
   "id": "9dfeaff8-d610-4a37-86d4-3583579102cf",
   "metadata": {},
   "outputs": [
    {
     "name": "stdout",
     "output_type": "stream",
     "text": [
      "['6 of Clubs', '7 of Hearts', '7 of Diamonds', 'King of Hearts', '4 of Hearts', 'Jack of Diamonds', '5 of Spades', '9 of Clubs', '2 of Spades', '3 of Hearts', 'Jack of Spades', '2 of Diamonds', 'Jack of Hearts', '2 of Hearts', '5 of Clubs', 'Jack of Clubs', 'Queen of Diamonds', '9 of Spades', '10 of Clubs', '6 of Spades', '6 of Diamonds', '7 of Spades', '7 of Clubs', '8 of Diamonds', 'Queen of Clubs', 'Queen of Hearts', 'Ace of Spades', '9 of Hearts', '3 of Clubs', '10 of Hearts', '4 of Diamonds', 'Ace of Diamonds', 'King of Spades', '5 of Hearts', '8 of Hearts', '4 of Spades', '3 of Spades', '3 of Diamonds', '5 of Diamonds', '2 of Clubs', '8 of Spades', 'King of Diamonds', 'Queen of Spades', '4 of Clubs', 'Ace of Clubs', 'Ace of Hearts', '10 of Diamonds', '10 of Spades', '6 of Hearts', 'King of Clubs', '8 of Clubs', '9 of Diamonds']\n"
     ]
    }
   ],
   "source": [
    "deck = [\"2 of Hearts\", \"3 of Hearts\", \"4 of Hearts\", \"5 of Hearts\", \"6 of Hearts\", \"7 of Hearts\", \"8 of Hearts\", \n",
    "    \"9 of Hearts\", \"10 of Hearts\", \"Jack of Hearts\", \"Queen of Hearts\", \"King of Hearts\", \"Ace of Hearts\",\n",
    "    \"2 of Diamonds\", \"3 of Diamonds\", \"4 of Diamonds\", \"5 of Diamonds\", \"6 of Diamonds\", \"7 of Diamonds\", \n",
    "    \"8 of Diamonds\", \"9 of Diamonds\", \"10 of Diamonds\", \"Jack of Diamonds\", \"Queen of Diamonds\", \n",
    "    \"King of Diamonds\", \"Ace of Diamonds\",\n",
    "    \"2 of Clubs\", \"3 of Clubs\", \"4 of Clubs\", \"5 of Clubs\", \"6 of Clubs\", \"7 of Clubs\", \"8 of Clubs\", \n",
    "    \"9 of Clubs\", \"10 of Clubs\", \"Jack of Clubs\", \"Queen of Clubs\", \"King of Clubs\", \"Ace of Clubs\",\n",
    "    \"2 of Spades\", \"3 of Spades\", \"4 of Spades\", \"5 of Spades\", \"6 of Spades\", \"7 of Spades\", \"8 of Spades\", \n",
    "    \"9 of Spades\", \"10 of Spades\", \"Jack of Spades\", \"Queen of Spades\", \"King of Spades\", \"Ace of Spades\"]\n",
    "\n",
    "random.shuffle(deck)\n",
    "print(deck)"
   ]
  },
  {
   "cell_type": "markdown",
   "id": "5bc30b14-95e0-4038-a7b8-23cc4e7d9468",
   "metadata": {},
   "source": [
    "Storing individal vs pieves of data. Can store in variables, and create a collection in a list. Data can be accessed using a single variable.\n",
    "\n",
    "Using lists: specific order with items in square brackets"
   ]
  },
  {
   "cell_type": "code",
   "execution_count": 50,
   "id": "31c8363d-7137-4e75-8ac0-7e7b6744152b",
   "metadata": {},
   "outputs": [
    {
     "name": "stdout",
     "output_type": "stream",
     "text": [
      "[5, 10, 15, 20]\n"
     ]
    }
   ],
   "source": [
    "listA = [5, 10, 15, 20]\n",
    "print(listA)"
   ]
  },
  {
   "cell_type": "code",
   "execution_count": 52,
   "id": "2870858f-0152-419e-ba95-b5c0634992ea",
   "metadata": {},
   "outputs": [
    {
     "data": {
      "text/plain": [
       "list"
      ]
     },
     "execution_count": 52,
     "metadata": {},
     "output_type": "execute_result"
    }
   ],
   "source": [
    "type(listA)"
   ]
  },
  {
   "cell_type": "code",
   "execution_count": 54,
   "id": "f0948b2b-a797-4a0e-9cbc-0f32025b740e",
   "metadata": {},
   "outputs": [
    {
     "name": "stdout",
     "output_type": "stream",
     "text": [
      "15\n"
     ]
    }
   ],
   "source": [
    "print(listA[2])"
   ]
  },
  {
   "cell_type": "markdown",
   "id": "af0be5ed-99b2-40ae-8d06-74a86a0cccc9",
   "metadata": {},
   "source": [
    "Python indexes from 0 so the 3rd item is of place 2 in the list. Can change items by doing:"
   ]
  },
  {
   "cell_type": "code",
   "execution_count": 56,
   "id": "f2c1556d-864c-40e0-9b50-f588268adc89",
   "metadata": {},
   "outputs": [
    {
     "name": "stdout",
     "output_type": "stream",
     "text": [
      "150\n"
     ]
    }
   ],
   "source": [
    "listA[2] = 150\n",
    "print(listA[2])"
   ]
  },
  {
   "cell_type": "code",
   "execution_count": 58,
   "id": "8721bb02-d16e-412b-ab5d-d58d629ebc11",
   "metadata": {},
   "outputs": [
    {
     "name": "stdout",
     "output_type": "stream",
     "text": [
      "[True, 'star', 50, 45.5]\n"
     ]
    }
   ],
   "source": [
    "listB = [True, 'star', 50, 45.5]\n",
    "print(listB)"
   ]
  },
  {
   "cell_type": "markdown",
   "id": "45fb0118-2dfd-40c6-aeca-97fdeea340cb",
   "metadata": {},
   "source": [
    "Leveraging tuples in Python - sequences that cannot be changed after creation. Idal for data that should not be alterd - ex: patient data."
   ]
  },
  {
   "cell_type": "code",
   "execution_count": 60,
   "id": "987ec782-258e-4a6b-9a45-9c0e0e222de2",
   "metadata": {},
   "outputs": [
    {
     "data": {
      "text/plain": [
       "tuple"
      ]
     },
     "execution_count": 60,
     "metadata": {},
     "output_type": "execute_result"
    }
   ],
   "source": [
    "child1_birth = ('Julia', 'Childrens Hospital', 'Stanford, CA', '07/09/2004')\n",
    "child2_birth = ('Nate', 'V.A. Hospital', 'Fremont, CA', '01/24/2004')\n",
    "\n",
    "type(child1_birth)\n",
    "type(child2_birth)    "
   ]
  },
  {
   "cell_type": "code",
   "execution_count": 63,
   "id": "5dd890cf-b200-4347-ad73-b3e8ecd26c5e",
   "metadata": {},
   "outputs": [
    {
     "name": "stdout",
     "output_type": "stream",
     "text": [
      "('Julia', 'Childrens Hospital', 'Stanford, CA', '07/09/2004')\n",
      "Stanford, CA\n"
     ]
    }
   ],
   "source": [
    "print(child1_birth)\n",
    "print(child1_birth[2])"
   ]
  },
  {
   "cell_type": "code",
   "execution_count": 65,
   "id": "75e5221a-85a0-475e-9f34-dd25db5c3766",
   "metadata": {},
   "outputs": [
    {
     "name": "stdout",
     "output_type": "stream",
     "text": [
      "date of birth is 01/24/2004\n"
     ]
    }
   ],
   "source": [
    "# second child day of birth\n",
    "print('date of birth is ' + child2_birth[3])"
   ]
  },
  {
   "cell_type": "code",
   "execution_count": 66,
   "id": "ecbcf908-e939-480c-83be-a69fec0453ab",
   "metadata": {},
   "outputs": [],
   "source": [
    "# if you try to change item in tuple it will not work! use them to protect data"
   ]
  },
  {
   "cell_type": "markdown",
   "id": "bd5ef9f4-0109-47e5-9f59-5ce061ecffb7",
   "metadata": {},
   "source": [
    "Conditional Statements - ex: if"
   ]
  },
  {
   "cell_type": "code",
   "execution_count": 69,
   "id": "01fb2f5d-38be-46a8-99d7-36a501cd5db7",
   "metadata": {},
   "outputs": [
    {
     "name": "stdout",
     "output_type": "stream",
     "text": [
      "Are you going out today? (y/n) y\n"
     ]
    },
    {
     "name": "stdout",
     "output_type": "stream",
     "text": [
      "Remeber to wear your gucci flip flops\n"
     ]
    }
   ],
   "source": [
    "fit_check = input('Are you going out today? (y/n)')\n",
    "if fit_check == 'y':\n",
    "    print('Remember to wear your gucci flip flops')"
   ]
  },
  {
   "cell_type": "code",
   "execution_count": 74,
   "id": "adc327b3-6a36-4a71-b1bf-3ccc57b7604a",
   "metadata": {},
   "outputs": [
    {
     "name": "stdout",
     "output_type": "stream",
     "text": [
      "choose an integer between 1 and 10:  4\n"
     ]
    },
    {
     "name": "stdout",
     "output_type": "stream",
     "text": [
      "The integer is less than 5\n"
     ]
    }
   ],
   "source": [
    "n = input('choose an integer between 1 and 10: ') # n is always stored as string if it is input funciton\n",
    "\n",
    "# int function can help us convert the input\n",
    "\n",
    "n = int(n)\n",
    "if n < 5:\n",
    "    print('The integer is less than 5')\n",
    "else:\n",
    "    print('The integer is larger than 4')"
   ]
  },
  {
   "cell_type": "code",
   "execution_count": 2,
   "id": "604649ae-ff46-41dd-a776-eed8106bf8a4",
   "metadata": {},
   "outputs": [
    {
     "name": "stdout",
     "output_type": "stream",
     "text": [
      "The minimum of the two is: 3\n"
     ]
    }
   ],
   "source": [
    "def minimum(x, y):\n",
    "    if x < y:\n",
    "        return x\n",
    "    else:\n",
    "        return y\n",
    "x = input('type a number')\n",
    "y = input('type another')\n",
    "x = int(x)\n",
    "y = int(y)\n",
    "\n",
    "print('The minimum of the two is: ' + str(minimum(x, y)))"
   ]
  },
  {
   "cell_type": "code",
   "execution_count": 1,
   "id": "5ce4f970-3748-4aab-ab10-17de2ed96d42",
   "metadata": {},
   "outputs": [
    {
     "name": "stdout",
     "output_type": "stream",
     "text": [
      "test\n"
     ]
    }
   ],
   "source": [
    "print('test')"
   ]
  },
  {
   "cell_type": "code",
   "execution_count": 4,
   "id": "4eb26291",
   "metadata": {},
   "outputs": [
    {
     "name": "stdout",
     "output_type": "stream",
     "text": [
      "Dont forget your umbrella today!\n"
     ]
    }
   ],
   "source": [
    "raining = input('It it raining? (y/n)')\n",
    "umbrella = input('Do you have an umbrella? (y/n)')\n",
    "if raining == 'y' and umbrella == 'y':\n",
    "    print('Dont forget your umbrella today!')\n",
    "elif raining == 'y' and umbrella == 'n':\n",
    "    print('Stay inside!')"
   ]
  },
  {
   "cell_type": "markdown",
   "id": "e07b88a3",
   "metadata": {},
   "source": [
    "Notice that abobe the script supports compound statements"
   ]
  },
  {
   "cell_type": "code",
   "execution_count": 7,
   "id": "0920ec17",
   "metadata": {},
   "outputs": [
    {
     "name": "stdout",
     "output_type": "stream",
     "text": [
      "Numer is less than 10\n"
     ]
    }
   ],
   "source": [
    "x = input('Enter number: ')\n",
    "x = float(x)\n",
    "if x < 2:\n",
    "    print('Number is less than 2')\n",
    "elif x < 10:\n",
    "    print('Number is less than 10')\n",
    "else:\n",
    "    print('Bad choice of number')"
   ]
  },
  {
   "cell_type": "code",
   "execution_count": 2,
   "id": "7e2e8829",
   "metadata": {},
   "outputs": [
    {
     "name": "stdout",
     "output_type": "stream",
     "text": [
      "test\n"
     ]
    }
   ],
   "source": [
    "print('test')"
   ]
  },
  {
   "cell_type": "markdown",
   "id": "bca5f8b9",
   "metadata": {},
   "source": [
    "To make a new cell use Shift + Enter\n",
    "To change the cell to Markdown/Code, use esc, then M or Y key, then press enter to edit the cell contents"
   ]
  },
  {
   "cell_type": "markdown",
   "id": "1f0cb579",
   "metadata": {},
   "source": [
    "If-Elif-Else Statments"
   ]
  },
  {
   "cell_type": "code",
   "execution_count": 2,
   "id": "7b80fff4",
   "metadata": {},
   "outputs": [
    {
     "name": "stdout",
     "output_type": "stream",
     "text": [
      "Results are 5 and 0\n"
     ]
    }
   ],
   "source": [
    "def abs_val(num):\n",
    "    if num < 0:\n",
    "        return -num\n",
    "    elif num == 0:\n",
    "        return 0\n",
    "    else:\n",
    "        return num\n",
    "result = abs_val(-5)\n",
    "result_2 = abs_val(0)\n",
    "print('Results are ' + str(result) + ' and ' + str(result_2))"
   ]
  },
  {
   "cell_type": "markdown",
   "id": "5194844d",
   "metadata": {},
   "source": [
    "Iteration in Python"
   ]
  }
 ],
 "metadata": {
  "kernelspec": {
   "display_name": "Python 3 (ipykernel)",
   "language": "python",
   "name": "python3"
  },
  "language_info": {
   "codemirror_mode": {
    "name": "ipython",
    "version": 3
   },
   "file_extension": ".py",
   "mimetype": "text/x-python",
   "name": "python",
   "nbconvert_exporter": "python",
   "pygments_lexer": "ipython3",
   "version": "3.9.6"
  }
 },
 "nbformat": 4,
 "nbformat_minor": 5
}
