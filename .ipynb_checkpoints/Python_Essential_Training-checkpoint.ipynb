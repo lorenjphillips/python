{
 "cells": [
  {
   "cell_type": "markdown",
   "id": "3d828c69-a481-404d-aad5-c7055b00123b",
   "metadata": {},
   "source": [
    "## Classes"
   ]
  },
  {
   "cell_type": "code",
   "execution_count": 15,
   "id": "65efc9fe-6fb6-4bc2-a3e1-c2e28e738a50",
   "metadata": {},
   "outputs": [],
   "source": [
    "from decimal import Decimal, getcontext"
   ]
  },
  {
   "cell_type": "code",
   "execution_count": 16,
   "id": "9b6928d8-3095-4888-9f0f-e60ea857c144",
   "metadata": {},
   "outputs": [],
   "source": [
    "class Dog:\n",
    "    def __init__(self, name): #initialization\n",
    "        self.name = name\n",
    "        self.legs = 4\n",
    "\n",
    "    def speak(self):\n",
    "        print(self.name + 'says: Bark!')"
   ]
  },
  {
   "cell_type": "code",
   "execution_count": 17,
   "id": "44638c2e-1f7b-4ca5-8459-cff80e27c028",
   "metadata": {},
   "outputs": [],
   "source": [
    "my_dog = Dog('Rover')\n",
    "another_dog = Dog('Fluffy')"
   ]
  },
  {
   "cell_type": "code",
   "execution_count": 18,
   "id": "37e21b95-1e21-4a78-88d5-d030529bf62c",
   "metadata": {},
   "outputs": [
    {
     "name": "stdout",
     "output_type": "stream",
     "text": [
      "Roversays: Bark!\n"
     ]
    }
   ],
   "source": [
    "my_dog.speak() # note parenthesis are empty # This is OOP --> Classes are objects, variables inside at attributes.\n",
    "\n",
    "# The funcitons are methods!"
   ]
  },
  {
   "cell_type": "markdown",
   "id": "942e801d-dc3e-431b-9b62-44950084e09e",
   "metadata": {},
   "source": [
    "Factorial Example"
   ]
  },
  {
   "cell_type": "code",
   "execution_count": 19,
   "id": "55e852cd-a2dd-428d-800c-6b8644924f06",
   "metadata": {},
   "outputs": [],
   "source": [
    "def factorial(n):\n",
    "    fact = 1\n",
    "    for num in range(2, n + 1):\n",
    "        fact *= num # Recursive shorthand! Good to know.\n",
    "    return fact"
   ]
  },
  {
   "cell_type": "code",
   "execution_count": 20,
   "id": "9ea9744e-d810-4f6d-be8b-aaac852d5046",
   "metadata": {},
   "outputs": [],
   "source": [
    "# another approach:\n",
    "def factorial(num):\n",
    "    if type(num) != int:\n",
    "        return None\n",
    "    if num < 0:\n",
    "        return None\n",
    "    if num == 0:\n",
    "        return 1\n",
    "    return num * factorial(num-1)"
   ]
  },
  {
   "cell_type": "markdown",
   "id": "3a87f89f-0d0e-4ae7-89d3-479b3ba84378",
   "metadata": {},
   "source": [
    "Ints and Floats"
   ]
  },
  {
   "cell_type": "code",
   "execution_count": 21,
   "id": "22e29dec-bac4-4f68-b884-da58b888b8d8",
   "metadata": {},
   "outputs": [
    {
     "data": {
      "text/plain": [
       "8.0"
      ]
     },
     "execution_count": 21,
     "metadata": {},
     "output_type": "execute_result"
    }
   ],
   "source": [
    "20 / 4\n",
    "4 + 4.0\n",
    "\n",
    "# int is a class! this sort of breaks the built in case nomenclature"
   ]
  },
  {
   "cell_type": "code",
   "execution_count": 22,
   "id": "66d0014e-b2b7-457d-a3f1-223ed1f46b5f",
   "metadata": {},
   "outputs": [
    {
     "data": {
      "text/plain": [
       "8"
      ]
     },
     "execution_count": 22,
     "metadata": {},
     "output_type": "execute_result"
    }
   ],
   "source": [
    "int(8.9999) # notice it only uses the number in the ones position"
   ]
  },
  {
   "cell_type": "code",
   "execution_count": 23,
   "id": "5972e0c6-9ebb-4fdb-aa42-024319b4571a",
   "metadata": {},
   "outputs": [
    {
     "data": {
      "text/plain": [
       "4.67"
      ]
     },
     "execution_count": 23,
     "metadata": {},
     "output_type": "execute_result"
    }
   ],
   "source": [
    "round( 14/3, 2)"
   ]
  },
  {
   "cell_type": "code",
   "execution_count": 24,
   "id": "cb5df29b-ebe9-480c-b6bb-24bf90cca359",
   "metadata": {},
   "outputs": [
    {
     "data": {
      "text/plain": [
       "0.19999999999999996"
      ]
     },
     "execution_count": 24,
     "metadata": {},
     "output_type": "execute_result"
    }
   ],
   "source": [
    "1.2 - 1.0"
   ]
  },
  {
   "cell_type": "markdown",
   "id": "8237d1b6-b3c4-4d06-af43-ca1826cb80fc",
   "metadata": {},
   "source": [
    "Notice the wierd rounding error, this is because of how python stores floats in memory"
   ]
  },
  {
   "cell_type": "markdown",
   "id": "09126ff9-426a-401d-804d-c4f5e56c5adf",
   "metadata": {},
   "source": [
    "## Integers and Decimals"
   ]
  },
  {
   "cell_type": "code",
   "execution_count": 25,
   "id": "9925b517-fadb-42b1-bb57-57667cd46139",
   "metadata": {},
   "outputs": [
    {
     "data": {
      "text/plain": [
       "100"
      ]
     },
     "execution_count": 25,
     "metadata": {},
     "output_type": "execute_result"
    }
   ],
   "source": [
    "int('100')"
   ]
  },
  {
   "cell_type": "code",
   "execution_count": 26,
   "id": "846b8972-3ed4-424a-98ae-d9e399a4ce90",
   "metadata": {},
   "outputs": [
    {
     "data": {
      "text/plain": [
       "4"
      ]
     },
     "execution_count": 26,
     "metadata": {},
     "output_type": "execute_result"
    }
   ],
   "source": [
    "int('100',2)"
   ]
  },
  {
   "cell_type": "code",
   "execution_count": 27,
   "id": "9df16ef4-41a4-4c33-a464-9eb887f93408",
   "metadata": {},
   "outputs": [
    {
     "ename": "TypeError",
     "evalue": "int() can't convert non-string with explicit base",
     "output_type": "error",
     "traceback": [
      "\u001b[0;31m---------------------------------------------------------------------------\u001b[0m",
      "\u001b[0;31mTypeError\u001b[0m                                 Traceback (most recent call last)",
      "Cell \u001b[0;32mIn[27], line 1\u001b[0m\n\u001b[0;32m----> 1\u001b[0m \u001b[38;5;28;43mint\u001b[39;49m\u001b[43m(\u001b[49m\u001b[38;5;241;43m100\u001b[39;49m\u001b[43m,\u001b[49m\u001b[38;5;241;43m2\u001b[39;49m\u001b[43m)\u001b[49m\n",
      "\u001b[0;31mTypeError\u001b[0m: int() can't convert non-string with explicit base"
     ]
    }
   ],
   "source": [
    "int(100,2)"
   ]
  },
  {
   "cell_type": "markdown",
   "id": "8dce8657-f595-4ee7-a5da-0e0043fbda3a",
   "metadata": {},
   "source": [
    "The function int('100', 2) converts the string '100' from binary (base 2) to decimal (base 10).\n",
    "In binary, the number '100' is equivalent to \n",
    "1×22+0×21+0×201×2 2+0×2 1+0×2 0, which equals 4+0+0=4 4+0+0=4."
   ]
  },
  {
   "cell_type": "code",
   "execution_count": null,
   "id": "819371c8-cfc4-499f-a71c-e21afdffb623",
   "metadata": {},
   "outputs": [],
   "source": [
    "int('lab', 16)"
   ]
  },
  {
   "cell_type": "markdown",
   "id": "9d45c1bf-8d41-4a6c-bc60-99d553d8763b",
   "metadata": {},
   "source": [
    "## Decimals"
   ]
  },
  {
   "cell_type": "code",
   "execution_count": null,
   "id": "de7f933f-4675-497d-8f60-1d2c332dc826",
   "metadata": {},
   "outputs": [],
   "source": [
    "# Flaoting point error can create big issues - so we import decimal tools (see package at top - always put pachages at top!!!)"
   ]
  },
  {
   "cell_type": "code",
   "execution_count": 28,
   "id": "22ce1a83-c64d-46a9-812a-a40043e664b3",
   "metadata": {},
   "outputs": [
    {
     "data": {
      "text/plain": [
       "Context(prec=28, rounding=ROUND_HALF_EVEN, Emin=-999999, Emax=999999, capitals=1, clamp=0, flags=[], traps=[InvalidOperation, DivisionByZero, Overflow])"
      ]
     },
     "execution_count": 28,
     "metadata": {},
     "output_type": "execute_result"
    }
   ],
   "source": [
    "getcontext()"
   ]
  },
  {
   "cell_type": "code",
   "execution_count": 33,
   "id": "e9c8c656-e175-4dea-983a-d6a580f404ca",
   "metadata": {},
   "outputs": [],
   "source": [
    "getcontext().prec=4 # These are global settings (precision =4)"
   ]
  },
  {
   "cell_type": "code",
   "execution_count": 34,
   "id": "356e84c3-2c59-4245-9f6f-1417a9c2e8c6",
   "metadata": {},
   "outputs": [
    {
     "data": {
      "text/plain": [
       "Context(prec=4, rounding=ROUND_HALF_EVEN, Emin=-999999, Emax=999999, capitals=1, clamp=0, flags=[Inexact, Rounded], traps=[InvalidOperation, DivisionByZero, Overflow])"
      ]
     },
     "execution_count": 34,
     "metadata": {},
     "output_type": "execute_result"
    }
   ],
   "source": [
    "getcontext()"
   ]
  },
  {
   "cell_type": "code",
   "execution_count": 35,
   "id": "61d58001-ba6f-4a65-bb23-fd2c656a6e1a",
   "metadata": {},
   "outputs": [
    {
     "data": {
      "text/plain": [
       "Decimal('0.3333')"
      ]
     },
     "execution_count": 35,
     "metadata": {},
     "output_type": "execute_result"
    }
   ],
   "source": [
    "Decimal(1) / Decimal(3)"
   ]
  },
  {
   "cell_type": "code",
   "execution_count": 36,
   "id": "cc4330da-7d4a-4f65-95cd-87f19c69a7d7",
   "metadata": {},
   "outputs": [
    {
     "data": {
      "text/plain": [
       "Decimal('3.140000000000000124344978758017532527446746826171875')"
      ]
     },
     "execution_count": 36,
     "metadata": {},
     "output_type": "execute_result"
    }
   ],
   "source": [
    "Decimal(3.14)"
   ]
  },
  {
   "cell_type": "code",
   "execution_count": 37,
   "id": "09eb8c04-6659-44aa-98b8-c890b7b096a4",
   "metadata": {},
   "outputs": [
    {
     "data": {
      "text/plain": [
       "Decimal('3.14')"
      ]
     },
     "execution_count": 37,
     "metadata": {},
     "output_type": "execute_result"
    }
   ],
   "source": [
    "Decimal('3.14')"
   ]
  },
  {
   "cell_type": "code",
   "execution_count": 38,
   "id": "e3465377-27c6-4a94-bc41-506766b99f75",
   "metadata": {},
   "outputs": [],
   "source": [
    "# Most of the time there is a way to work with just floats but be sure if you need decimal in your project!"
   ]
  },
  {
   "cell_type": "code",
   "execution_count": null,
   "id": "0c8b461f-5a2e-4265-a36f-9345358132b4",
   "metadata": {},
   "outputs": [],
   "source": []
  }
 ],
 "metadata": {
  "kernelspec": {
   "display_name": "Python 3 (ipykernel)",
   "language": "python",
   "name": "python3"
  },
  "language_info": {
   "codemirror_mode": {
    "name": "ipython",
    "version": 3
   },
   "file_extension": ".py",
   "mimetype": "text/x-python",
   "name": "python",
   "nbconvert_exporter": "python",
   "pygments_lexer": "ipython3",
   "version": "3.9.6"
  }
 },
 "nbformat": 4,
 "nbformat_minor": 5
}
