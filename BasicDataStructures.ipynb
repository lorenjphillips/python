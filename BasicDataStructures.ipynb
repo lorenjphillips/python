{
 "cells": [
  {
   "cell_type": "code",
   "execution_count": 4,
   "id": "071d394e-fc13-45e9-ad61-7e3602217a90",
   "metadata": {},
   "outputs": [
    {
     "name": "stdout",
     "output_type": "stream",
     "text": [
      "0\n",
      "1\n",
      "2\n",
      "3\n",
      "4\n",
      "5\n",
      "6\n",
      "7\n",
      "8\n",
      "9\n"
     ]
    }
   ],
   "source": [
    "for i in range(10):\n",
    "    print(i)"
   ]
  },
  {
   "cell_type": "code",
   "execution_count": 5,
   "id": "06c152dd-dcdd-4dd5-ab17-9af8b159c899",
   "metadata": {},
   "outputs": [],
   "source": [
    "myList = list(range(100))"
   ]
  },
  {
   "cell_type": "code",
   "execution_count": 6,
   "id": "7cc84d0c-fbac-47fb-862f-4a8678302cc6",
   "metadata": {},
   "outputs": [
    {
     "data": {
      "text/plain": [
       "[0, 10, 20, 30, 40, 50, 60, 70, 80, 90]"
      ]
     },
     "execution_count": 6,
     "metadata": {},
     "output_type": "execute_result"
    }
   ],
   "source": [
    "myList[::10]"
   ]
  },
  {
   "cell_type": "markdown",
   "id": "3606987c-45c8-4eec-9a20-f489c62ea709",
   "metadata": {},
   "source": [
    "## Modifying Lists"
   ]
  },
  {
   "cell_type": "code",
   "execution_count": 9,
   "id": "41c63a0d-901f-4e93-a2ab-0f39d673c665",
   "metadata": {},
   "outputs": [
    {
     "name": "stdout",
     "output_type": "stream",
     "text": [
      "[1, 2, 3, 4, 5]\n"
     ]
    }
   ],
   "source": [
    "myList = [1,2,3,4]\n",
    "myList.append(5)\n",
    "print(myList)"
   ]
  },
  {
   "cell_type": "code",
   "execution_count": 16,
   "id": "08cb8d1e-59da-4cc7-aa2a-9f179c8873ee",
   "metadata": {},
   "outputs": [
    {
     "name": "stdout",
     "output_type": "stream",
     "text": [
      "[1, 2, 3, 'a new value', 4, 5]\n"
     ]
    }
   ],
   "source": [
    "myList.insert(3, 'a new value')\n",
    "print(myList)"
   ]
  },
  {
   "cell_type": "code",
   "execution_count": 17,
   "id": "f659c3d1-31ec-4cad-bbc9-76f9d6ba1de9",
   "metadata": {},
   "outputs": [],
   "source": [
    "myList.remove('a new value') # can use value or a index?"
   ]
  },
  {
   "cell_type": "code",
   "execution_count": 19,
   "id": "dcd0ca4e-2d46-408b-b4d9-4c6b7dec4e33",
   "metadata": {},
   "outputs": [
    {
     "name": "stdout",
     "output_type": "stream",
     "text": [
      "[1, 2, 3]\n"
     ]
    }
   ],
   "source": [
    "myList.pop() # removes off end\n",
    "print(myList)"
   ]
  },
  {
   "cell_type": "code",
   "execution_count": null,
   "id": "4054af0d-2c70-4b9d-803c-10377405be59",
   "metadata": {},
   "outputs": [],
   "source": [
    "# while len(myList):\n",
    "#     print(myList.pop())"
   ]
  },
  {
   "cell_type": "code",
   "execution_count": null,
   "id": "4de781a8-8c46-4e63-b433-f4cb14e9c456",
   "metadata": {},
   "outputs": [],
   "source": [
    "myList"
   ]
  },
  {
   "cell_type": "code",
   "execution_count": null,
   "id": "95e88022-f078-47cc-ab01-86d8c9d6eb53",
   "metadata": {},
   "outputs": [],
   "source": [
    "1+2"
   ]
  }
 ],
 "metadata": {
  "kernelspec": {
   "display_name": "Python 3 (ipykernel)",
   "language": "python",
   "name": "python3"
  },
  "language_info": {
   "codemirror_mode": {
    "name": "ipython",
    "version": 3
   },
   "file_extension": ".py",
   "mimetype": "text/x-python",
   "name": "python",
   "nbconvert_exporter": "python",
   "pygments_lexer": "ipython3",
   "version": "3.9.6"
  }
 },
 "nbformat": 4,
 "nbformat_minor": 5
}
