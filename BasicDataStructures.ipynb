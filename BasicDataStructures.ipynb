{
 "cells": [
  {
   "cell_type": "code",
   "execution_count": 4,
   "id": "071d394e-fc13-45e9-ad61-7e3602217a90",
   "metadata": {},
   "outputs": [
    {
     "name": "stdout",
     "output_type": "stream",
     "text": [
      "0\n",
      "1\n",
      "2\n",
      "3\n",
      "4\n",
      "5\n",
      "6\n",
      "7\n",
      "8\n",
      "9\n"
     ]
    }
   ],
   "source": [
    "for i in range(10):\n",
    "    print(i)"
   ]
  },
  {
   "cell_type": "code",
   "execution_count": 5,
   "id": "06c152dd-dcdd-4dd5-ab17-9af8b159c899",
   "metadata": {},
   "outputs": [],
   "source": [
    "myList = list(range(100))"
   ]
  },
  {
   "cell_type": "code",
   "execution_count": 6,
   "id": "7cc84d0c-fbac-47fb-862f-4a8678302cc6",
   "metadata": {},
   "outputs": [
    {
     "data": {
      "text/plain": [
       "[0, 10, 20, 30, 40, 50, 60, 70, 80, 90]"
      ]
     },
     "execution_count": 6,
     "metadata": {},
     "output_type": "execute_result"
    }
   ],
   "source": [
    "myList[::10]"
   ]
  },
  {
   "cell_type": "markdown",
   "id": "3606987c-45c8-4eec-9a20-f489c62ea709",
   "metadata": {},
   "source": [
    "## Modifying Lists"
   ]
  },
  {
   "cell_type": "code",
   "execution_count": 3,
   "id": "41c63a0d-901f-4e93-a2ab-0f39d673c665",
   "metadata": {},
   "outputs": [
    {
     "name": "stdout",
     "output_type": "stream",
     "text": [
      "[1, 2, 3, 4, 5]\n"
     ]
    }
   ],
   "source": [
    "myList = [1,2,3,4]\n",
    "myList.append(5)\n",
    "print(myList)"
   ]
  },
  {
   "cell_type": "code",
   "execution_count": 4,
   "id": "08cb8d1e-59da-4cc7-aa2a-9f179c8873ee",
   "metadata": {},
   "outputs": [
    {
     "name": "stdout",
     "output_type": "stream",
     "text": [
      "[1, 2, 3, 'a new value', 4, 5]\n"
     ]
    }
   ],
   "source": [
    "myList.insert(3, 'a new value')\n",
    "print(myList)"
   ]
  },
  {
   "cell_type": "code",
   "execution_count": 5,
   "id": "f659c3d1-31ec-4cad-bbc9-76f9d6ba1de9",
   "metadata": {},
   "outputs": [],
   "source": [
    "myList.remove('a new value') # can use value or a index?"
   ]
  },
  {
   "cell_type": "code",
   "execution_count": 6,
   "id": "dcd0ca4e-2d46-408b-b4d9-4c6b7dec4e33",
   "metadata": {},
   "outputs": [
    {
     "name": "stdout",
     "output_type": "stream",
     "text": [
      "[1, 2, 3, 4]\n"
     ]
    }
   ],
   "source": [
    "myList.pop() # removes off end\n",
    "print(myList)"
   ]
  },
  {
   "cell_type": "code",
   "execution_count": 11,
   "id": "4054af0d-2c70-4b9d-803c-10377405be59",
   "metadata": {},
   "outputs": [
    {
     "name": "stdout",
     "output_type": "stream",
     "text": [
      "4\n",
      "3\n",
      "2\n",
      "1\n"
     ]
    }
   ],
   "source": [
    "while len(myList):\n",
    "    print(myList.pop())"
   ]
  },
  {
   "cell_type": "code",
   "execution_count": 12,
   "id": "4de781a8-8c46-4e63-b433-f4cb14e9c456",
   "metadata": {},
   "outputs": [
    {
     "data": {
      "text/plain": [
       "[]"
      ]
     },
     "execution_count": 12,
     "metadata": {},
     "output_type": "execute_result"
    }
   ],
   "source": [
    "myList"
   ]
  },
  {
   "cell_type": "code",
   "execution_count": 14,
   "id": "95e88022-f078-47cc-ab01-86d8c9d6eb53",
   "metadata": {},
   "outputs": [
    {
     "name": "stdout",
     "output_type": "stream",
     "text": [
      "[1, 2, 3, 4, 5, 6]\n"
     ]
    }
   ],
   "source": [
    "a = [1,2,3,4,5]\n",
    "b = a\n",
    "a.append(6)\n",
    "print(b)"
   ]
  },
  {
   "cell_type": "code",
   "execution_count": 17,
   "id": "76b73f18-4a10-4e62-b907-3562bd53a954",
   "metadata": {},
   "outputs": [
    {
     "name": "stdout",
     "output_type": "stream",
     "text": [
      "[1, 2, 3, 4, 5, 6]\n",
      "[1, 2, 3, 4, 5]\n"
     ]
    }
   ],
   "source": [
    "# Note that is affects both, if we copy it makes a seperate!\n",
    "a = [1,2,3,4,5]\n",
    "b = a.copy()\n",
    "a.append(6)\n",
    "print(a)\n",
    "print(b)"
   ]
  },
  {
   "cell_type": "markdown",
   "id": "3c963bae-875d-45a3-b1cb-20c7f0d321dc",
   "metadata": {},
   "source": [
    "## Sets"
   ]
  },
  {
   "cell_type": "code",
   "execution_count": 26,
   "id": "38303859-c43f-451b-95e7-9fb1b88bfc08",
   "metadata": {},
   "outputs": [
    {
     "data": {
      "text/plain": [
       "['b', 'c', 'a']"
      ]
     },
     "execution_count": 26,
     "metadata": {},
     "output_type": "execute_result"
    }
   ],
   "source": [
    "mySet = {'a','b','c','c'} # can remove duplicates from list by making a set \n",
    "myList = ['a','b','c','c']\n",
    "myList = list(set(myList))\n",
    "myList         "
   ]
  },
  {
   "cell_type": "markdown",
   "id": "a23ca4cf-b216-4f2c-94e8-3feb9181230a",
   "metadata": {},
   "source": [
    "Sets are ccurly brackets, and sets cannot be sliced - no indicies!"
   ]
  },
  {
   "cell_type": "code",
   "execution_count": 27,
   "id": "4576d66e-1972-43ec-a4a7-c30148182d42",
   "metadata": {},
   "outputs": [
    {
     "data": {
      "text/plain": [
       "{'a', 'b', 'c', 'd'}"
      ]
     },
     "execution_count": 27,
     "metadata": {},
     "output_type": "execute_result"
    }
   ],
   "source": [
    "# We can add though\n",
    "mySet.add('d')\n",
    "mySet"
   ]
  },
  {
   "cell_type": "code",
   "execution_count": 28,
   "id": "e1720f56-6185-417f-bac3-8914a3d43c9c",
   "metadata": {},
   "outputs": [
    {
     "data": {
      "text/plain": [
       "True"
      ]
     },
     "execution_count": 28,
     "metadata": {},
     "output_type": "execute_result"
    }
   ],
   "source": [
    "'a' in mySet"
   ]
  },
  {
   "cell_type": "code",
   "execution_count": 29,
   "id": "1469fac4-0986-40e2-a56f-c8414202b818",
   "metadata": {},
   "outputs": [
    {
     "data": {
      "text/plain": [
       "4"
      ]
     },
     "execution_count": 29,
     "metadata": {},
     "output_type": "execute_result"
    }
   ],
   "source": [
    "len(mySet) # we can get the length of a set"
   ]
  },
  {
   "cell_type": "code",
   "execution_count": 30,
   "id": "4a04e7c8-554b-467f-bf43-0b9b9c83b707",
   "metadata": {},
   "outputs": [
    {
     "data": {
      "text/plain": [
       "'b'"
      ]
     },
     "execution_count": 30,
     "metadata": {},
     "output_type": "execute_result"
    }
   ],
   "source": [
    "mySet.pop()"
   ]
  },
  {
   "cell_type": "code",
   "execution_count": 31,
   "id": "a37a46fa-2337-47eb-8595-88b3f4591e7a",
   "metadata": {},
   "outputs": [],
   "source": [
    "# It will remove some element of the set and return it!"
   ]
  },
  {
   "cell_type": "code",
   "execution_count": 33,
   "id": "6173e55c-d0cc-41a0-a672-73e81e38e580",
   "metadata": {},
   "outputs": [],
   "source": [
    "mySet.discard('a')"
   ]
  },
  {
   "cell_type": "code",
   "execution_count": 34,
   "id": "eb1336d2-f2b1-4acd-86cd-0097791cc92c",
   "metadata": {},
   "outputs": [
    {
     "data": {
      "text/plain": [
       "{'c', 'd'}"
      ]
     },
     "execution_count": 34,
     "metadata": {},
     "output_type": "execute_result"
    }
   ],
   "source": [
    "mySet"
   ]
  },
  {
   "cell_type": "markdown",
   "id": "54f7b5c2-8973-49a7-a984-80e70764357f",
   "metadata": {},
   "source": [
    "## Tuples"
   ]
  },
  {
   "cell_type": "code",
   "execution_count": 35,
   "id": "83aadf7f-fbae-4631-97de-c015d666874c",
   "metadata": {},
   "outputs": [
    {
     "data": {
      "text/plain": [
       "('a', 'b', 'c')"
      ]
     },
     "execution_count": 35,
     "metadata": {},
     "output_type": "execute_result"
    }
   ],
   "source": [
    "myTuple = ('a','b','c')\n",
    "myTuple"
   ]
  },
  {
   "cell_type": "code",
   "execution_count": 36,
   "id": "140ed29e-c4f9-4a93-b9f2-a29cbddcdec7",
   "metadata": {},
   "outputs": [
    {
     "data": {
      "text/plain": [
       "'a'"
      ]
     },
     "execution_count": 36,
     "metadata": {},
     "output_type": "execute_result"
    }
   ],
   "source": [
    "myTuple[0]"
   ]
  },
  {
   "cell_type": "code",
   "execution_count": 37,
   "id": "7ae98910-bf53-4ed2-bc8b-824cf5dbcf88",
   "metadata": {},
   "outputs": [],
   "source": [
    "#Note they are subscriptable but do not support item assignment\n",
    "\n",
    "# They use parenthesis ()"
   ]
  },
  {
   "cell_type": "markdown",
   "id": "b3ae491f-500f-4009-a723-c34f25d8e356",
   "metadata": {},
   "source": [
    "Why would we use this? More efficient - stored smaller. Use by default in a lot of python"
   ]
  },
  {
   "cell_type": "code",
   "execution_count": 38,
   "id": "fa473775-b28f-4daa-9529-db3e0194cd3e",
   "metadata": {},
   "outputs": [],
   "source": [
    "def returnsMultipleValues():\n",
    "    return 1,2,3 # dont need ()!!"
   ]
  },
  {
   "cell_type": "code",
   "execution_count": 39,
   "id": "7bbfdaab-67a1-4bdc-8712-78b2d2857f4d",
   "metadata": {},
   "outputs": [
    {
     "data": {
      "text/plain": [
       "tuple"
      ]
     },
     "execution_count": 39,
     "metadata": {},
     "output_type": "execute_result"
    }
   ],
   "source": [
    "type(returnsMultipleValues())"
   ]
  },
  {
   "cell_type": "code",
   "execution_count": 43,
   "id": "fd77f5a4-199f-4241-bb3b-f01baa90349b",
   "metadata": {},
   "outputs": [
    {
     "name": "stdout",
     "output_type": "stream",
     "text": [
      "(1, 2, 3)\n"
     ]
    }
   ],
   "source": [
    "myTuple = 1,2,3 # this works! but do not use this convention\n",
    "print(myTuple)"
   ]
  },
  {
   "cell_type": "code",
   "execution_count": null,
   "id": "ffd88cb7-e4c9-4e6d-bac0-850875486a1b",
   "metadata": {},
   "outputs": [],
   "source": []
  }
 ],
 "metadata": {
  "kernelspec": {
   "display_name": "Python 3 (ipykernel)",
   "language": "python",
   "name": "python3"
  },
  "language_info": {
   "codemirror_mode": {
    "name": "ipython",
    "version": 3
   },
   "file_extension": ".py",
   "mimetype": "text/x-python",
   "name": "python",
   "nbconvert_exporter": "python",
   "pygments_lexer": "ipython3",
   "version": "3.9.6"
  }
 },
 "nbformat": 4,
 "nbformat_minor": 5
}
