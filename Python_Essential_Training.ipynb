{
 "cells": [
  {
   "cell_type": "markdown",
   "id": "3d828c69-a481-404d-aad5-c7055b00123b",
   "metadata": {},
   "source": [
    "## Classes"
   ]
  },
  {
   "cell_type": "code",
   "execution_count": 70,
   "id": "65efc9fe-6fb6-4bc2-a3e1-c2e28e738a50",
   "metadata": {},
   "outputs": [],
   "source": [
    "from decimal import Decimal, getcontext\n",
    "import math"
   ]
  },
  {
   "cell_type": "code",
   "execution_count": 16,
   "id": "9b6928d8-3095-4888-9f0f-e60ea857c144",
   "metadata": {},
   "outputs": [],
   "source": [
    "class Dog:\n",
    "    def __init__(self, name): #initialization\n",
    "        self.name = name\n",
    "        self.legs = 4\n",
    "\n",
    "    def speak(self):\n",
    "        print(self.name + 'says: Bark!')"
   ]
  },
  {
   "cell_type": "code",
   "execution_count": 17,
   "id": "44638c2e-1f7b-4ca5-8459-cff80e27c028",
   "metadata": {},
   "outputs": [],
   "source": [
    "my_dog = Dog('Rover')\n",
    "another_dog = Dog('Fluffy')"
   ]
  },
  {
   "cell_type": "code",
   "execution_count": 18,
   "id": "37e21b95-1e21-4a78-88d5-d030529bf62c",
   "metadata": {},
   "outputs": [
    {
     "name": "stdout",
     "output_type": "stream",
     "text": [
      "Roversays: Bark!\n"
     ]
    }
   ],
   "source": [
    "my_dog.speak() # note parenthesis are empty # This is OOP --> Classes are objects, variables inside at attributes.\n",
    "\n",
    "# The funcitons are methods!"
   ]
  },
  {
   "cell_type": "markdown",
   "id": "942e801d-dc3e-431b-9b62-44950084e09e",
   "metadata": {},
   "source": [
    "Factorial Example"
   ]
  },
  {
   "cell_type": "code",
   "execution_count": 19,
   "id": "55e852cd-a2dd-428d-800c-6b8644924f06",
   "metadata": {},
   "outputs": [],
   "source": [
    "def factorial(n):\n",
    "    fact = 1\n",
    "    for num in range(2, n + 1):\n",
    "        fact *= num # Recursive shorthand! Good to know.\n",
    "    return fact"
   ]
  },
  {
   "cell_type": "code",
   "execution_count": 20,
   "id": "9ea9744e-d810-4f6d-be8b-aaac852d5046",
   "metadata": {},
   "outputs": [],
   "source": [
    "# another approach:\n",
    "def factorial(num):\n",
    "    if type(num) != int:\n",
    "        return None\n",
    "    if num < 0:\n",
    "        return None\n",
    "    if num == 0:\n",
    "        return 1\n",
    "    return num * factorial(num-1)"
   ]
  },
  {
   "cell_type": "markdown",
   "id": "3a87f89f-0d0e-4ae7-89d3-479b3ba84378",
   "metadata": {},
   "source": [
    "Ints and Floats"
   ]
  },
  {
   "cell_type": "code",
   "execution_count": 21,
   "id": "22e29dec-bac4-4f68-b884-da58b888b8d8",
   "metadata": {},
   "outputs": [
    {
     "data": {
      "text/plain": [
       "8.0"
      ]
     },
     "execution_count": 21,
     "metadata": {},
     "output_type": "execute_result"
    }
   ],
   "source": [
    "20 / 4\n",
    "4 + 4.0\n",
    "\n",
    "# int is a class! this sort of breaks the built in case nomenclature"
   ]
  },
  {
   "cell_type": "code",
   "execution_count": 22,
   "id": "66d0014e-b2b7-457d-a3f1-223ed1f46b5f",
   "metadata": {},
   "outputs": [
    {
     "data": {
      "text/plain": [
       "8"
      ]
     },
     "execution_count": 22,
     "metadata": {},
     "output_type": "execute_result"
    }
   ],
   "source": [
    "int(8.9999) # notice it only uses the number in the ones position"
   ]
  },
  {
   "cell_type": "code",
   "execution_count": 23,
   "id": "5972e0c6-9ebb-4fdb-aa42-024319b4571a",
   "metadata": {},
   "outputs": [
    {
     "data": {
      "text/plain": [
       "4.67"
      ]
     },
     "execution_count": 23,
     "metadata": {},
     "output_type": "execute_result"
    }
   ],
   "source": [
    "round( 14/3, 2)"
   ]
  },
  {
   "cell_type": "code",
   "execution_count": 24,
   "id": "cb5df29b-ebe9-480c-b6bb-24bf90cca359",
   "metadata": {},
   "outputs": [
    {
     "data": {
      "text/plain": [
       "0.19999999999999996"
      ]
     },
     "execution_count": 24,
     "metadata": {},
     "output_type": "execute_result"
    }
   ],
   "source": [
    "1.2 - 1.0"
   ]
  },
  {
   "cell_type": "markdown",
   "id": "8237d1b6-b3c4-4d06-af43-ca1826cb80fc",
   "metadata": {},
   "source": [
    "Notice the wierd rounding error, this is because of how python stores floats in memory"
   ]
  },
  {
   "cell_type": "markdown",
   "id": "09126ff9-426a-401d-804d-c4f5e56c5adf",
   "metadata": {},
   "source": [
    "## Integers and Decimals"
   ]
  },
  {
   "cell_type": "code",
   "execution_count": 25,
   "id": "9925b517-fadb-42b1-bb57-57667cd46139",
   "metadata": {},
   "outputs": [
    {
     "data": {
      "text/plain": [
       "100"
      ]
     },
     "execution_count": 25,
     "metadata": {},
     "output_type": "execute_result"
    }
   ],
   "source": [
    "int('100')"
   ]
  },
  {
   "cell_type": "code",
   "execution_count": 26,
   "id": "846b8972-3ed4-424a-98ae-d9e399a4ce90",
   "metadata": {},
   "outputs": [
    {
     "data": {
      "text/plain": [
       "4"
      ]
     },
     "execution_count": 26,
     "metadata": {},
     "output_type": "execute_result"
    }
   ],
   "source": [
    "int('100',2)"
   ]
  },
  {
   "cell_type": "code",
   "execution_count": 27,
   "id": "9df16ef4-41a4-4c33-a464-9eb887f93408",
   "metadata": {},
   "outputs": [
    {
     "ename": "TypeError",
     "evalue": "int() can't convert non-string with explicit base",
     "output_type": "error",
     "traceback": [
      "\u001b[0;31m---------------------------------------------------------------------------\u001b[0m",
      "\u001b[0;31mTypeError\u001b[0m                                 Traceback (most recent call last)",
      "Cell \u001b[0;32mIn[27], line 1\u001b[0m\n\u001b[0;32m----> 1\u001b[0m \u001b[38;5;28;43mint\u001b[39;49m\u001b[43m(\u001b[49m\u001b[38;5;241;43m100\u001b[39;49m\u001b[43m,\u001b[49m\u001b[38;5;241;43m2\u001b[39;49m\u001b[43m)\u001b[49m\n",
      "\u001b[0;31mTypeError\u001b[0m: int() can't convert non-string with explicit base"
     ]
    }
   ],
   "source": [
    "int(100,2)"
   ]
  },
  {
   "cell_type": "markdown",
   "id": "8dce8657-f595-4ee7-a5da-0e0043fbda3a",
   "metadata": {},
   "source": [
    "The function int('100', 2) converts the string '100' from binary (base 2) to decimal (base 10).\n",
    "In binary, the number '100' is equivalent to \n",
    "1×22+0×21+0×201×2 2+0×2 1+0×2 0, which equals 4+0+0=4 4+0+0=4."
   ]
  },
  {
   "cell_type": "code",
   "execution_count": null,
   "id": "819371c8-cfc4-499f-a71c-e21afdffb623",
   "metadata": {},
   "outputs": [],
   "source": [
    "int('lab', 16)"
   ]
  },
  {
   "cell_type": "markdown",
   "id": "9d45c1bf-8d41-4a6c-bc60-99d553d8763b",
   "metadata": {},
   "source": [
    "## Decimals"
   ]
  },
  {
   "cell_type": "code",
   "execution_count": null,
   "id": "de7f933f-4675-497d-8f60-1d2c332dc826",
   "metadata": {},
   "outputs": [],
   "source": [
    "# Flaoting point error can create big issues - so we import decimal tools (see package at top - always put pachages at top!!!)"
   ]
  },
  {
   "cell_type": "code",
   "execution_count": 28,
   "id": "22ce1a83-c64d-46a9-812a-a40043e664b3",
   "metadata": {},
   "outputs": [
    {
     "data": {
      "text/plain": [
       "Context(prec=28, rounding=ROUND_HALF_EVEN, Emin=-999999, Emax=999999, capitals=1, clamp=0, flags=[], traps=[InvalidOperation, DivisionByZero, Overflow])"
      ]
     },
     "execution_count": 28,
     "metadata": {},
     "output_type": "execute_result"
    }
   ],
   "source": [
    "getcontext()"
   ]
  },
  {
   "cell_type": "code",
   "execution_count": 33,
   "id": "e9c8c656-e175-4dea-983a-d6a580f404ca",
   "metadata": {},
   "outputs": [],
   "source": [
    "getcontext().prec=4 # These are global settings (precision =4)"
   ]
  },
  {
   "cell_type": "code",
   "execution_count": 34,
   "id": "356e84c3-2c59-4245-9f6f-1417a9c2e8c6",
   "metadata": {},
   "outputs": [
    {
     "data": {
      "text/plain": [
       "Context(prec=4, rounding=ROUND_HALF_EVEN, Emin=-999999, Emax=999999, capitals=1, clamp=0, flags=[Inexact, Rounded], traps=[InvalidOperation, DivisionByZero, Overflow])"
      ]
     },
     "execution_count": 34,
     "metadata": {},
     "output_type": "execute_result"
    }
   ],
   "source": [
    "getcontext()"
   ]
  },
  {
   "cell_type": "code",
   "execution_count": 35,
   "id": "61d58001-ba6f-4a65-bb23-fd2c656a6e1a",
   "metadata": {},
   "outputs": [
    {
     "data": {
      "text/plain": [
       "Decimal('0.3333')"
      ]
     },
     "execution_count": 35,
     "metadata": {},
     "output_type": "execute_result"
    }
   ],
   "source": [
    "Decimal(1) / Decimal(3)"
   ]
  },
  {
   "cell_type": "code",
   "execution_count": 36,
   "id": "cc4330da-7d4a-4f65-95cd-87f19c69a7d7",
   "metadata": {},
   "outputs": [
    {
     "data": {
      "text/plain": [
       "Decimal('3.140000000000000124344978758017532527446746826171875')"
      ]
     },
     "execution_count": 36,
     "metadata": {},
     "output_type": "execute_result"
    }
   ],
   "source": [
    "Decimal(3.14)"
   ]
  },
  {
   "cell_type": "code",
   "execution_count": 37,
   "id": "09eb8c04-6659-44aa-98b8-c890b7b096a4",
   "metadata": {},
   "outputs": [
    {
     "data": {
      "text/plain": [
       "Decimal('3.14')"
      ]
     },
     "execution_count": 37,
     "metadata": {},
     "output_type": "execute_result"
    }
   ],
   "source": [
    "Decimal('3.14')"
   ]
  },
  {
   "cell_type": "code",
   "execution_count": 38,
   "id": "e3465377-27c6-4a94-bc41-506766b99f75",
   "metadata": {},
   "outputs": [],
   "source": [
    "# Most of the time there is a way to work with just floats but be sure if you need decimal in your project!"
   ]
  },
  {
   "cell_type": "markdown",
   "id": "7ac36187-3da9-455d-911c-b46b08d9bc86",
   "metadata": {},
   "source": [
    "## Boolean Logic"
   ]
  },
  {
   "cell_type": "code",
   "execution_count": 39,
   "id": "57cc0f18-f232-486f-b342-fc9b27fbafdf",
   "metadata": {},
   "outputs": [
    {
     "data": {
      "text/plain": [
       "False"
      ]
     },
     "execution_count": 39,
     "metadata": {},
     "output_type": "execute_result"
    }
   ],
   "source": [
    "bool(0)"
   ]
  },
  {
   "cell_type": "code",
   "execution_count": 40,
   "id": "4ca90048-c05d-4033-8b55-618b23290c0c",
   "metadata": {},
   "outputs": [
    {
     "data": {
      "text/plain": [
       "True"
      ]
     },
     "execution_count": 40,
     "metadata": {},
     "output_type": "execute_result"
    }
   ],
   "source": [
    "bool(-1)"
   ]
  },
  {
   "cell_type": "code",
   "execution_count": 41,
   "id": "4b3b8921-31b5-4498-95d0-9cedc3fec6b7",
   "metadata": {},
   "outputs": [
    {
     "data": {
      "text/plain": [
       "True"
      ]
     },
     "execution_count": 41,
     "metadata": {},
     "output_type": "execute_result"
    }
   ],
   "source": [
    "bool(1j)"
   ]
  },
  {
   "cell_type": "code",
   "execution_count": 42,
   "id": "c44d3433-592b-43dc-b622-ed3183f06267",
   "metadata": {},
   "outputs": [
    {
     "data": {
      "text/plain": [
       "False"
      ]
     },
     "execution_count": 42,
     "metadata": {},
     "output_type": "execute_result"
    }
   ],
   "source": [
    "bool(0.0)"
   ]
  },
  {
   "cell_type": "code",
   "execution_count": 43,
   "id": "f46ee934-2a76-46b0-aa2f-5654bb69e850",
   "metadata": {},
   "outputs": [
    {
     "data": {
      "text/plain": [
       "False"
      ]
     },
     "execution_count": 43,
     "metadata": {},
     "output_type": "execute_result"
    }
   ],
   "source": [
    "bool(0j)"
   ]
  },
  {
   "cell_type": "code",
   "execution_count": 44,
   "id": "473848ee-43f6-4fa6-8d5b-0f68cbc06543",
   "metadata": {},
   "outputs": [
    {
     "data": {
      "text/plain": [
       "True"
      ]
     },
     "execution_count": 44,
     "metadata": {},
     "output_type": "execute_result"
    }
   ],
   "source": [
    "bool('True')"
   ]
  },
  {
   "cell_type": "code",
   "execution_count": 45,
   "id": "c28847a2-b3e5-4584-a40f-69f1d0f2e0a2",
   "metadata": {},
   "outputs": [
    {
     "data": {
      "text/plain": [
       "True"
      ]
     },
     "execution_count": 45,
     "metadata": {},
     "output_type": "execute_result"
    }
   ],
   "source": [
    "bool('False')"
   ]
  },
  {
   "cell_type": "code",
   "execution_count": 46,
   "id": "4aebb478-befd-425f-bbaf-ab7170d80912",
   "metadata": {},
   "outputs": [
    {
     "data": {
      "text/plain": [
       "False"
      ]
     },
     "execution_count": 46,
     "metadata": {},
     "output_type": "execute_result"
    }
   ],
   "source": [
    "bool('') # Empty sting is only false string"
   ]
  },
  {
   "cell_type": "code",
   "execution_count": 47,
   "id": "451426b6-a560-48ce-9385-7a83bac5fc0d",
   "metadata": {},
   "outputs": [
    {
     "data": {
      "text/plain": [
       "False"
      ]
     },
     "execution_count": 47,
     "metadata": {},
     "output_type": "execute_result"
    }
   ],
   "source": [
    "bool(None)"
   ]
  },
  {
   "cell_type": "code",
   "execution_count": 49,
   "id": "e97b7977-d911-42ad-8657-bb72f5543c63",
   "metadata": {},
   "outputs": [
    {
     "name": "stdout",
     "output_type": "stream",
     "text": [
      "List non-empty!\n"
     ]
    }
   ],
   "source": [
    "myList = [1,2]\n",
    "if bool(myList):\n",
    "    print('List non-empty!')"
   ]
  },
  {
   "cell_type": "code",
   "execution_count": 52,
   "id": "a471491e-3d02-433c-80c4-2de4060a091d",
   "metadata": {},
   "outputs": [
    {
     "name": "stdout",
     "output_type": "stream",
     "text": [
      "Stay Inside\n"
     ]
    }
   ],
   "source": [
    "weatherIsNice = True\n",
    "haveUmbrella = True\n",
    "\n",
    "if not haveUmbrella or weatherIsNice: # Note this is basically (haveUmbrella) or weatherIsNice  -- python evaluates left to right\n",
    "    print('Stay Inside')\n",
    "else:\n",
    "    print('Go Out')"
   ]
  },
  {
   "cell_type": "code",
   "execution_count": 53,
   "id": "7ea4ae88-0dba-467e-90b1-42dec3bdb089",
   "metadata": {},
   "outputs": [
    {
     "name": "stdout",
     "output_type": "stream",
     "text": [
      "Go Out\n"
     ]
    }
   ],
   "source": [
    "# Can fix with either parenthisis:\n",
    "\n",
    "weatherIsNice = True\n",
    "haveUmbrella = True\n",
    "\n",
    "if not (haveUmbrella or weatherIsNice): # Note this is basically (haveUmbrella) or weatherIsNice  -- python evaluates left to right\n",
    "    print('Stay Inside')\n",
    "else:\n",
    "    print('Go Out')"
   ]
  },
  {
   "cell_type": "code",
   "execution_count": 56,
   "id": "4acd3da2-8abb-45c1-95a3-4056866b87ad",
   "metadata": {},
   "outputs": [
    {
     "name": "stdout",
     "output_type": "stream",
     "text": [
      "Go Out\n"
     ]
    }
   ],
   "source": [
    "# Or oyu can use an and statement\n",
    "\n",
    "weatherIsNice = True\n",
    "haveUmbrella = True\n",
    "\n",
    "if not haveUmbrella and not weatherIsNice: \n",
    "    print('Stay Inside')\n",
    "else:\n",
    "    print('Go Out')"
   ]
  },
  {
   "cell_type": "code",
   "execution_count": 55,
   "id": "9b3cc64d-e527-42ff-920b-c8426c0b1da3",
   "metadata": {},
   "outputs": [
    {
     "name": "stdout",
     "output_type": "stream",
     "text": [
      "Stay Inside\n"
     ]
    }
   ],
   "source": [
    "weatherIsNice = True\n",
    "haveUmbrella = True\n",
    "\n",
    "if haveUmbrella or weatherIsNice: \n",
    "    print('Stay Inside')\n",
    "else:\n",
    "    print('Go Out')"
   ]
  },
  {
   "cell_type": "markdown",
   "id": "05002c54-b2f2-438f-acd2-3f0c6dc0ed16",
   "metadata": {},
   "source": [
    "## Strings"
   ]
  },
  {
   "cell_type": "code",
   "execution_count": 57,
   "id": "455b10d2-8e9b-4660-977d-b162a10fe2ab",
   "metadata": {},
   "outputs": [],
   "source": [
    "# Slicing\n",
    "\n",
    "name = 'My name is  Ryan Mitchell'"
   ]
  },
  {
   "cell_type": "code",
   "execution_count": 58,
   "id": "218b017e-aeff-4b5b-86dd-d56250df3c4d",
   "metadata": {},
   "outputs": [
    {
     "data": {
      "text/plain": [
       "'M'"
      ]
     },
     "execution_count": 58,
     "metadata": {},
     "output_type": "execute_result"
    }
   ],
   "source": [
    "name[0]"
   ]
  },
  {
   "cell_type": "code",
   "execution_count": 59,
   "id": "1b81c1a0-2a3b-498b-bbb7-882f1e4e9d94",
   "metadata": {},
   "outputs": [
    {
     "data": {
      "text/plain": [
       "'My name'"
      ]
     },
     "execution_count": 59,
     "metadata": {},
     "output_type": "execute_result"
    }
   ],
   "source": [
    "name[0:7]"
   ]
  },
  {
   "cell_type": "code",
   "execution_count": 60,
   "id": "bf021f59-08ab-4503-bd7a-c2da3c10dcdf",
   "metadata": {},
   "outputs": [
    {
     "data": {
      "text/plain": [
       "' Ryan Mitchell'"
      ]
     },
     "execution_count": 60,
     "metadata": {},
     "output_type": "execute_result"
    }
   ],
   "source": [
    "name[11:] # if you leave out begin/end it will take from start/end"
   ]
  },
  {
   "cell_type": "code",
   "execution_count": 61,
   "id": "a9a1e45e-264d-41b7-9b72-94c4d9b6be20",
   "metadata": {},
   "outputs": [],
   "source": [
    "myList = [1,2,3,4,5]"
   ]
  },
  {
   "cell_type": "code",
   "execution_count": 64,
   "id": "598bdc35-51d3-4487-b632-6f8d68641c9c",
   "metadata": {},
   "outputs": [
    {
     "data": {
      "text/plain": [
       "[3, 4]"
      ]
     },
     "execution_count": 64,
     "metadata": {},
     "output_type": "execute_result"
    }
   ],
   "source": [
    "myList[2:4]"
   ]
  },
  {
   "cell_type": "code",
   "execution_count": 65,
   "id": "b955db2e-cffa-494e-acc3-e8bdc0d0a93e",
   "metadata": {},
   "outputs": [
    {
     "data": {
      "text/plain": [
       "5"
      ]
     },
     "execution_count": 65,
     "metadata": {},
     "output_type": "execute_result"
    }
   ],
   "source": [
    "len(myList)"
   ]
  },
  {
   "cell_type": "markdown",
   "id": "7fde5c85-d09e-4363-9339-8855951aefd3",
   "metadata": {},
   "source": [
    "## Formatting"
   ]
  },
  {
   "cell_type": "code",
   "execution_count": 66,
   "id": "74c53285-ed14-4289-bc2e-7fcd738af3ea",
   "metadata": {},
   "outputs": [
    {
     "data": {
      "text/plain": [
       "'My number is: 5'"
      ]
     },
     "execution_count": 66,
     "metadata": {},
     "output_type": "execute_result"
    }
   ],
   "source": [
    "'My number is: '+str(5)"
   ]
  },
  {
   "cell_type": "code",
   "execution_count": 67,
   "id": "60a8a08d-5a3f-4048-acd5-3ea6ef91e9e7",
   "metadata": {},
   "outputs": [
    {
     "data": {
      "text/plain": [
       "'My number is: 5'"
      ]
     },
     "execution_count": 67,
     "metadata": {},
     "output_type": "execute_result"
    }
   ],
   "source": [
    "f'My number is: {5}'"
   ]
  },
  {
   "cell_type": "code",
   "execution_count": 68,
   "id": "b5e9d8b3-9b8c-444f-8e15-34bb3d70f6f8",
   "metadata": {},
   "outputs": [
    {
     "data": {
      "text/plain": [
       "'My number is: 10'"
      ]
     },
     "execution_count": 68,
     "metadata": {},
     "output_type": "execute_result"
    }
   ],
   "source": [
    "# can also do expression:\n",
    "f'My number is: {2*5}'"
   ]
  },
  {
   "cell_type": "code",
   "execution_count": 71,
   "id": "61a262d2-83e9-40bb-8879-cabec9c83122",
   "metadata": {},
   "outputs": [
    {
     "data": {
      "text/plain": [
       "'Pi is 3.14'"
      ]
     },
     "execution_count": 71,
     "metadata": {},
     "output_type": "execute_result"
    }
   ],
   "source": [
    "f'Pi is {math.pi:.2f}' # f formatting came out in recent release!"
   ]
  },
  {
   "cell_type": "code",
   "execution_count": 74,
   "id": "fbdda93c-2f0c-4da5-9154-5c70e45f0e3a",
   "metadata": {},
   "outputs": [
    {
     "data": {
      "text/plain": [
       "'Pi is 3.141592653589793'"
      ]
     },
     "execution_count": 74,
     "metadata": {},
     "output_type": "execute_result"
    }
   ],
   "source": [
    "# Here is the old way to format:\n",
    "'Pi is {}'.format(math.pi)"
   ]
  },
  {
   "cell_type": "markdown",
   "id": "8d83e853-3c4e-401f-be42-1e93736a7db4",
   "metadata": {},
   "source": [
    "## Multi-Line Strings"
   ]
  },
  {
   "cell_type": "code",
   "execution_count": 75,
   "id": "b4e6f8c9-0da2-4a38-b200-e08428f56491",
   "metadata": {},
   "outputs": [],
   "source": [
    "mystirng = '''\n",
    "Here is a long block of text\n",
    "I can add new lines!\n",
    "the text does not stop until \n",
    "it sees \\'\\'\\'\n",
    "'''"
   ]
  },
  {
   "cell_type": "code",
   "execution_count": 76,
   "id": "2b4c6c4e-e16d-45f7-a2da-117ffb0a0324",
   "metadata": {},
   "outputs": [
    {
     "data": {
      "text/plain": [
       "\"\\nHere is a long block of text\\nI can add new lines!\\nthe text does not stop until \\nit sees '''\\n\""
      ]
     },
     "execution_count": 76,
     "metadata": {},
     "output_type": "execute_result"
    }
   ],
   "source": [
    "mystirng"
   ]
  },
  {
   "cell_type": "markdown",
   "id": "08a3618f-f119-4ac4-b66b-824a5a85b656",
   "metadata": {},
   "source": [
    "Notice the new line characters, these dont show if oyu print"
   ]
  },
  {
   "cell_type": "code",
   "execution_count": 77,
   "id": "39970f29-3056-4b3e-94da-5b3ce5ec5341",
   "metadata": {},
   "outputs": [
    {
     "name": "stdout",
     "output_type": "stream",
     "text": [
      "\n",
      "Here is a long block of text\n",
      "I can add new lines!\n",
      "the text does not stop until \n",
      "it sees '''\n",
      "\n"
     ]
    }
   ],
   "source": [
    "print(mystirng)"
   ]
  },
  {
   "cell_type": "markdown",
   "id": "643b7c08-4dd1-42e8-8ca7-3c6d3215b59e",
   "metadata": {},
   "source": [
    "Bytes"
   ]
  },
  {
   "cell_type": "code",
   "execution_count": 78,
   "id": "336eabbf-7f9a-4ca2-8d5e-4d500283ad72",
   "metadata": {},
   "outputs": [
    {
     "data": {
      "text/plain": [
       "b'\\x00\\x00\\x00\\x00'"
      ]
     },
     "execution_count": 78,
     "metadata": {},
     "output_type": "execute_result"
    }
   ],
   "source": [
    "bytes(4)"
   ]
  },
  {
   "cell_type": "code",
   "execution_count": 79,
   "id": "ba79ce33-4821-4f71-9848-40207a65914b",
   "metadata": {},
   "outputs": [],
   "source": [
    "sunglasses = bytes('😎', 'utf-8') # make sure to specify the type - emojis are unicode transformation format 8."
   ]
  },
  {
   "cell_type": "code",
   "execution_count": 80,
   "id": "5caf9a56-1c00-4755-b6ec-62d67b2b7feb",
   "metadata": {},
   "outputs": [
    {
     "data": {
      "text/plain": [
       "b'\\xf0\\x9f\\x98\\x8e'"
      ]
     },
     "execution_count": 80,
     "metadata": {},
     "output_type": "execute_result"
    }
   ],
   "source": [
    "sunglasses"
   ]
  },
  {
   "cell_type": "code",
   "execution_count": 81,
   "id": "858d3026-8489-49b7-a7c6-d8f8e666d8a8",
   "metadata": {},
   "outputs": [
    {
     "data": {
      "text/plain": [
       "'😎'"
      ]
     },
     "execution_count": 81,
     "metadata": {},
     "output_type": "execute_result"
    }
   ],
   "source": [
    "# How do we go the other way?\n",
    "sunglasses.decode('utf-8')"
   ]
  },
  {
   "cell_type": "code",
   "execution_count": 84,
   "id": "682dc24f-9487-4013-9b5d-dd8a31ced441",
   "metadata": {},
   "outputs": [
    {
     "data": {
      "text/plain": [
       "b'Have a great day'"
      ]
     },
     "execution_count": 84,
     "metadata": {},
     "output_type": "execute_result"
    }
   ],
   "source": [
    "text = bytes('Have a great day', 'utf-8')\n",
    "text"
   ]
  },
  {
   "cell_type": "code",
   "execution_count": 83,
   "id": "764142b1-e174-4617-8224-b1c38b6cf3ed",
   "metadata": {},
   "outputs": [
    {
     "data": {
      "text/plain": [
       "'Have a great day'"
      ]
     },
     "execution_count": 83,
     "metadata": {},
     "output_type": "execute_result"
    }
   ],
   "source": [
    "text.decode('utf-8')"
   ]
  },
  {
   "cell_type": "code",
   "execution_count": 85,
   "id": "0ad8200f-759c-4442-a691-6a6f5307820a",
   "metadata": {},
   "outputs": [
    {
     "ename": "TypeError",
     "evalue": "'bytes' object does not support item assignment",
     "output_type": "error",
     "traceback": [
      "\u001b[0;31m---------------------------------------------------------------------------\u001b[0m",
      "\u001b[0;31mTypeError\u001b[0m                                 Traceback (most recent call last)",
      "Cell \u001b[0;32mIn[85], line 1\u001b[0m\n\u001b[0;32m----> 1\u001b[0m \u001b[43msunglasses\u001b[49m\u001b[43m[\u001b[49m\u001b[38;5;241;43m3\u001b[39;49m\u001b[43m]\u001b[49m \u001b[38;5;241m=\u001b[39m \u001b[38;5;28mint\u001b[39m(\u001b[38;5;124m'\u001b[39m\u001b[38;5;124m85\u001b[39m\u001b[38;5;124m'\u001b[39m, \u001b[38;5;241m16\u001b[39m)\n",
      "\u001b[0;31mTypeError\u001b[0m: 'bytes' object does not support item assignment"
     ]
    }
   ],
   "source": [
    "sunglasses[3] = int('85', 16) # Can modify these!"
   ]
  },
  {
   "cell_type": "code",
   "execution_count": null,
   "id": "92b21d5f-0a29-40d4-a6b3-d0600e3127c2",
   "metadata": {},
   "outputs": [],
   "source": []
  },
  {
   "cell_type": "code",
   "execution_count": null,
   "id": "01c34ce9-07a4-4769-96d3-c41564f0ac5d",
   "metadata": {},
   "outputs": [],
   "source": []
  }
 ],
 "metadata": {
  "kernelspec": {
   "display_name": "Python 3 (ipykernel)",
   "language": "python",
   "name": "python3"
  },
  "language_info": {
   "codemirror_mode": {
    "name": "ipython",
    "version": 3
   },
   "file_extension": ".py",
   "mimetype": "text/x-python",
   "name": "python",
   "nbconvert_exporter": "python",
   "pygments_lexer": "ipython3",
   "version": "3.9.6"
  }
 },
 "nbformat": 4,
 "nbformat_minor": 5
}
