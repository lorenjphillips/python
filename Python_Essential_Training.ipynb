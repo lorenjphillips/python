{
 "cells": [
  {
   "cell_type": "markdown",
   "id": "3d828c69-a481-404d-aad5-c7055b00123b",
   "metadata": {},
   "source": [
    "## Classes"
   ]
  },
  {
   "cell_type": "code",
   "execution_count": 1,
   "id": "9b6928d8-3095-4888-9f0f-e60ea857c144",
   "metadata": {},
   "outputs": [],
   "source": [
    "class Dog:\n",
    "    def __init__(self, name): #initialization\n",
    "        self.name = name\n",
    "        self.legs = 4\n",
    "\n",
    "    def speak(self):\n",
    "        print(self.name + 'says: Bark!')"
   ]
  },
  {
   "cell_type": "code",
   "execution_count": 2,
   "id": "44638c2e-1f7b-4ca5-8459-cff80e27c028",
   "metadata": {},
   "outputs": [],
   "source": [
    "my_dog = Dog('Rover')\n",
    "another_dog = Dog('Fluffy')"
   ]
  },
  {
   "cell_type": "code",
   "execution_count": 3,
   "id": "37e21b95-1e21-4a78-88d5-d030529bf62c",
   "metadata": {},
   "outputs": [
    {
     "name": "stdout",
     "output_type": "stream",
     "text": [
      "Roversays: Bark!\n"
     ]
    }
   ],
   "source": [
    "my_dog.speak() # note parenthesis are empty # This is OOP --> Classes are objects, variables inside at attributes.\n",
    "\n",
    "# The funcitons are methods!"
   ]
  },
  {
   "cell_type": "markdown",
   "id": "942e801d-dc3e-431b-9b62-44950084e09e",
   "metadata": {},
   "source": [
    "Factorial Example"
   ]
  },
  {
   "cell_type": "code",
   "execution_count": 4,
   "id": "55e852cd-a2dd-428d-800c-6b8644924f06",
   "metadata": {},
   "outputs": [],
   "source": [
    "def factorial(n):\n",
    "    fact = 1\n",
    "    for num in range(2, n + 1):\n",
    "        fact *= num # Recursive shorthand! Good to know.\n",
    "    return fact"
   ]
  },
  {
   "cell_type": "code",
   "execution_count": 7,
   "id": "9ea9744e-d810-4f6d-be8b-aaac852d5046",
   "metadata": {},
   "outputs": [],
   "source": [
    "# another approach:\n",
    "def factorial(num):\n",
    "    if type(num) != int:\n",
    "        return None\n",
    "    if num < 0:\n",
    "        return None\n",
    "    if num == 0:\n",
    "        return 1\n",
    "    return num * factorial(num-1)"
   ]
  },
  {
   "cell_type": "markdown",
   "id": "3a87f89f-0d0e-4ae7-89d3-479b3ba84378",
   "metadata": {},
   "source": [
    "Ints and Floats"
   ]
  },
  {
   "cell_type": "code",
   "execution_count": 8,
   "id": "22e29dec-bac4-4f68-b884-da58b888b8d8",
   "metadata": {},
   "outputs": [
    {
     "data": {
      "text/plain": [
       "8.0"
      ]
     },
     "execution_count": 8,
     "metadata": {},
     "output_type": "execute_result"
    }
   ],
   "source": [
    "20 / 4\n",
    "4 + 4.0\n",
    "\n",
    "# int is a class! this sort of breaks the built in case nomenclature"
   ]
  },
  {
   "cell_type": "code",
   "execution_count": 9,
   "id": "66d0014e-b2b7-457d-a3f1-223ed1f46b5f",
   "metadata": {},
   "outputs": [
    {
     "data": {
      "text/plain": [
       "8"
      ]
     },
     "execution_count": 9,
     "metadata": {},
     "output_type": "execute_result"
    }
   ],
   "source": [
    "int(8.9999) # notice it only uses the number in the ones position"
   ]
  },
  {
   "cell_type": "code",
   "execution_count": 11,
   "id": "5972e0c6-9ebb-4fdb-aa42-024319b4571a",
   "metadata": {},
   "outputs": [
    {
     "data": {
      "text/plain": [
       "4.67"
      ]
     },
     "execution_count": 11,
     "metadata": {},
     "output_type": "execute_result"
    }
   ],
   "source": [
    "round( 14/3, 2)"
   ]
  },
  {
   "cell_type": "code",
   "execution_count": 12,
   "id": "cb5df29b-ebe9-480c-b6bb-24bf90cca359",
   "metadata": {},
   "outputs": [
    {
     "data": {
      "text/plain": [
       "0.19999999999999996"
      ]
     },
     "execution_count": 12,
     "metadata": {},
     "output_type": "execute_result"
    }
   ],
   "source": [
    "1.2 - 1.0"
   ]
  },
  {
   "cell_type": "markdown",
   "id": "8237d1b6-b3c4-4d06-af43-ca1826cb80fc",
   "metadata": {},
   "source": [
    "Notice the wierd rounding error, this is because of how python stores floats in memory"
   ]
  }
 ],
 "metadata": {
  "kernelspec": {
   "display_name": "Python 3 (ipykernel)",
   "language": "python",
   "name": "python3"
  },
  "language_info": {
   "codemirror_mode": {
    "name": "ipython",
    "version": 3
   },
   "file_extension": ".py",
   "mimetype": "text/x-python",
   "name": "python",
   "nbconvert_exporter": "python",
   "pygments_lexer": "ipython3",
   "version": "3.9.6"
  }
 },
 "nbformat": 4,
 "nbformat_minor": 5
}
